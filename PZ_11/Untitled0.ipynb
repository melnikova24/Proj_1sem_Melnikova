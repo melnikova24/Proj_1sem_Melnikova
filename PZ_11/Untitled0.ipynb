{
  "nbformat": 4,
  "nbformat_minor": 0,
  "metadata": {
    "colab": {
      "name": "Untitled0.ipynb",
      "provenance": [],
      "authorship_tag": "ABX9TyP5FyOKwZUliNYptX8W/XgQ",
      "include_colab_link": true
    },
    "kernelspec": {
      "name": "python3",
      "display_name": "Python 3"
    },
    "language_info": {
      "name": "python"
    }
  },
  "cells": [
    {
      "cell_type": "markdown",
      "metadata": {
        "id": "view-in-github",
        "colab_type": "text"
      },
      "source": [
        "<a href=\"https://colab.research.google.com/github/melnikova24/Proj_1sem_Melnikova/blob/master/PZ_11/Untitled0.ipynb\" target=\"_parent\"><img src=\"https://colab.research.google.com/assets/colab-badge.svg\" alt=\"Open In Colab\"/></a>"
      ]
    },
    {
      "cell_type": "markdown",
      "source": [
        "ПЗ_3_1: Даны числа x, у. Проверить истинность высказывания: «Точка с координатами (x, у) лежит во второй или третьей координатной четверти»"
      ],
      "metadata": {
        "id": "YP_7L33p8_ht"
      }
    },
    {
      "cell_type": "code",
      "source": [
        "x = input(\"Ведите первое число: \")\n",
        "y = input(\"Введите второе число: \")\n",
        "\n",
        "while type(x) != float: # Обработка исключений\n",
        "    try:\n",
        "        x = float(x)\n",
        "    except ValueError:\n",
        "        print(\"Введено не число\")\n",
        "        x = input(\"Введите первое число: \")\n",
        "\n",
        "while type(y) != float: # Обработка исключений\n",
        "    try:\n",
        "        y = float(y)\n",
        "    except ValueError:\n",
        "        print(\"Введено не число\")\n",
        "        y = input(\"Введите второе число: \")\n",
        "\n",
        "if (x > 0) and (y > 0):\n",
        "    print(\"Высказывание ложно, точка лежит в превой координатной плоскости\")\n",
        "elif (x < 0) and (y > 0):\n",
        "    print(\"Высказывание истинно, точка лежит во второй координатной плоскости\")\n",
        "elif (x < 0) and (y < 0):\n",
        "    print(\"Высказывание истинно, точка лежит в третьей координатной плоскости\")\n",
        "else:\n",
        "    print(\"Высказывание ложно, точка лежит в четвёртой координатной плоскости\")"
      ],
      "metadata": {
        "colab": {
          "base_uri": "https://localhost:8080/"
        },
        "id": "SSsFbDX69RVc",
        "outputId": "a85e846b-d3fc-493b-fc5d-6cc4f94ed1a3"
      },
      "execution_count": 10,
      "outputs": [
        {
          "output_type": "stream",
          "name": "stdout",
          "text": [
            "Ведите первое число: 7\n",
            "Введите второе число: -5\n",
            "Высказывание ложно, точка лежит в четвёртой координатной плоскости\n"
          ]
        }
      ]
    },
    {
      "cell_type": "markdown",
      "source": [
        "ПЗ_4_1: Дано целое число N (>0). Найти сумму 1 + 1/2 + 1/3 + ... + 1/N\n"
      ],
      "metadata": {
        "id": "ALR099me9aAd"
      }
    },
    {
      "cell_type": "code",
      "source": [
        "N = input(\"Введите колличество элементов (целое число): \")\n",
        "\n",
        "while type(N) != float:\n",
        "    try:\n",
        "        N = float(N)\n",
        "    except ValueError:\n",
        "        print(\"Введено неверное число\")\n",
        "        N = input(\"Введите колличество элементов (целое число): \")\n",
        "\n",
        "    try:\n",
        "        if N <= 0:\n",
        "            print(\"Введено неверное число\")\n",
        "            N = input(\"Введите колличество элементов (целое число): \")\n",
        "    except TypeError:\n",
        "        continue\n",
        "\n",
        "a = 1\n",
        "s = 0\n",
        "while a <= N:\n",
        "    b = 1/a\n",
        "    s += b\n",
        "    a += 1\n",
        "\n",
        "print(s)"
      ],
      "metadata": {
        "colab": {
          "base_uri": "https://localhost:8080/"
        },
        "id": "lNYBUSB79ncF",
        "outputId": "cc96f875-58d9-441d-fd34-0629605bf2c5"
      },
      "execution_count": 9,
      "outputs": [
        {
          "output_type": "stream",
          "name": "stdout",
          "text": [
            "Введите колличество элементов (целое число): 6\n",
            "2.4499999999999997\n"
          ]
        }
      ]
    },
    {
      "cell_type": "markdown",
      "source": [
        "ПЗ_5_1: Составить программу, в которой функция генерирует четырёхзначное число и определяет, есть ли в числе одинаковые цифры."
      ],
      "metadata": {
        "id": "QqeGdTqY9sOF"
      }
    },
    {
      "cell_type": "code",
      "source": [
        "import random\n",
        "\n",
        "\n",
        "def generate4digit():\n",
        "    number = str(random.randint(1000, 9999))\n",
        "    i = 0\n",
        "    result = 0\n",
        "    while i < len(number):\n",
        "        if number[i] in number[i + 1:]:\n",
        "            result = 1\n",
        "            break\n",
        "        i += 1\n",
        "    if result == 0:\n",
        "        print(f\"В числе {number} нет повторяющихся цифр\")\n",
        "    else:\n",
        "        print(f\"В числе {number} есть повторяющиеся цифры\")\n",
        "\n",
        "\n",
        "generate4digit()"
      ],
      "metadata": {
        "colab": {
          "base_uri": "https://localhost:8080/"
        },
        "id": "80qgLVYs9z_e",
        "outputId": "0d9fcfc6-728e-4fcf-ea11-cae932eb82a1"
      },
      "execution_count": 8,
      "outputs": [
        {
          "output_type": "stream",
          "name": "stdout",
          "text": [
            "В числе 5157 есть повторяющиеся цифры\n"
          ]
        }
      ]
    }
  ]
}